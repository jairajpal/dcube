{
 "cells": [
  {
   "cell_type": "code",
   "execution_count": 55,
   "metadata": {},
   "outputs": [],
   "source": [
    "import numpy as np\n",
    "import matplotlib.pyplot as plt\n",
    "import pandas as pd"
   ]
  },
  {
   "cell_type": "code",
   "execution_count": 44,
   "metadata": {
    "scrolled": false
   },
   "outputs": [
    {
     "data": {
      "text/html": [
       "<div>\n",
       "<style scoped>\n",
       "    .dataframe tbody tr th:only-of-type {\n",
       "        vertical-align: middle;\n",
       "    }\n",
       "\n",
       "    .dataframe tbody tr th {\n",
       "        vertical-align: top;\n",
       "    }\n",
       "\n",
       "    .dataframe thead th {\n",
       "        text-align: right;\n",
       "    }\n",
       "</style>\n",
       "<table border=\"1\" class=\"dataframe\">\n",
       "  <thead>\n",
       "    <tr style=\"text-align: right;\">\n",
       "      <th></th>\n",
       "      <th>PatientID</th>\n",
       "      <th>Drug</th>\n",
       "      <th>Quarter-Year</th>\n",
       "      <th>Quarters</th>\n",
       "      <th>Year</th>\n",
       "      <th>administereddate</th>\n",
       "      <th>LoT</th>\n",
       "      <th>LoT Category</th>\n",
       "      <th>Treatment Regimen</th>\n",
       "    </tr>\n",
       "  </thead>\n",
       "  <tbody>\n",
       "    <tr>\n",
       "      <th>0</th>\n",
       "      <td>1</td>\n",
       "      <td>Drug 11</td>\n",
       "      <td>2017-Q1</td>\n",
       "      <td>1</td>\n",
       "      <td>2017</td>\n",
       "      <td>2017-02-13</td>\n",
       "      <td>1</td>\n",
       "      <td>1</td>\n",
       "      <td>Drug 11</td>\n",
       "    </tr>\n",
       "    <tr>\n",
       "      <th>1</th>\n",
       "      <td>1</td>\n",
       "      <td>Drug 11</td>\n",
       "      <td>2017-Q1</td>\n",
       "      <td>1</td>\n",
       "      <td>2017</td>\n",
       "      <td>2017-02-14</td>\n",
       "      <td>1</td>\n",
       "      <td>1</td>\n",
       "      <td>Drug 11</td>\n",
       "    </tr>\n",
       "    <tr>\n",
       "      <th>2</th>\n",
       "      <td>1</td>\n",
       "      <td>Drug 11</td>\n",
       "      <td>2017-Q1</td>\n",
       "      <td>1</td>\n",
       "      <td>2017</td>\n",
       "      <td>2017-02-15</td>\n",
       "      <td>1</td>\n",
       "      <td>1</td>\n",
       "      <td>Drug 11</td>\n",
       "    </tr>\n",
       "    <tr>\n",
       "      <th>3</th>\n",
       "      <td>1</td>\n",
       "      <td>Drug 11</td>\n",
       "      <td>2017-Q1</td>\n",
       "      <td>1</td>\n",
       "      <td>2017</td>\n",
       "      <td>2017-02-16</td>\n",
       "      <td>1</td>\n",
       "      <td>1</td>\n",
       "      <td>Drug 11</td>\n",
       "    </tr>\n",
       "    <tr>\n",
       "      <th>4</th>\n",
       "      <td>1</td>\n",
       "      <td>Drug 11</td>\n",
       "      <td>2017-Q1</td>\n",
       "      <td>1</td>\n",
       "      <td>2017</td>\n",
       "      <td>2017-02-17</td>\n",
       "      <td>1</td>\n",
       "      <td>1</td>\n",
       "      <td>Drug 11</td>\n",
       "    </tr>\n",
       "  </tbody>\n",
       "</table>\n",
       "</div>"
      ],
      "text/plain": [
       "   PatientID     Drug Quarter-Year  Quarters  Year administereddate  LoT  \\\n",
       "0          1  Drug 11      2017-Q1         1  2017       2017-02-13    1   \n",
       "1          1  Drug 11      2017-Q1         1  2017       2017-02-14    1   \n",
       "2          1  Drug 11      2017-Q1         1  2017       2017-02-15    1   \n",
       "3          1  Drug 11      2017-Q1         1  2017       2017-02-16    1   \n",
       "4          1  Drug 11      2017-Q1         1  2017       2017-02-17    1   \n",
       "\n",
       "  LoT Category Treatment Regimen  \n",
       "0            1           Drug 11  \n",
       "1            1           Drug 11  \n",
       "2            1           Drug 11  \n",
       "3            1           Drug 11  \n",
       "4            1           Drug 11  "
      ]
     },
     "execution_count": 44,
     "metadata": {},
     "output_type": "execute_result"
    }
   ],
   "source": [
    "df = pd.read_excel (r'data.xlsx' , sheet_name='Raw Data')\n",
    "df.head()"
   ]
  },
  {
   "cell_type": "code",
   "execution_count": 170,
   "metadata": {},
   "outputs": [],
   "source": [
    "#1.\tWhat is the current market scenario in AML market in terms of patient share (based on drugs administered)?"
   ]
  },
  {
   "cell_type": "code",
   "execution_count": 180,
   "metadata": {},
   "outputs": [
    {
     "data": {
      "text/html": [
       "<div>\n",
       "<style scoped>\n",
       "    .dataframe tbody tr th:only-of-type {\n",
       "        vertical-align: middle;\n",
       "    }\n",
       "\n",
       "    .dataframe tbody tr th {\n",
       "        vertical-align: top;\n",
       "    }\n",
       "\n",
       "    .dataframe thead th {\n",
       "        text-align: right;\n",
       "    }\n",
       "</style>\n",
       "<table border=\"1\" class=\"dataframe\">\n",
       "  <thead>\n",
       "    <tr style=\"text-align: right;\">\n",
       "      <th></th>\n",
       "      <th>Year</th>\n",
       "      <th>PatientID</th>\n",
       "    </tr>\n",
       "  </thead>\n",
       "  <tbody>\n",
       "    <tr>\n",
       "      <th>0</th>\n",
       "      <td>2008</td>\n",
       "      <td>3</td>\n",
       "    </tr>\n",
       "    <tr>\n",
       "      <th>1</th>\n",
       "      <td>2009</td>\n",
       "      <td>24</td>\n",
       "    </tr>\n",
       "    <tr>\n",
       "      <th>2</th>\n",
       "      <td>2010</td>\n",
       "      <td>87</td>\n",
       "    </tr>\n",
       "    <tr>\n",
       "      <th>3</th>\n",
       "      <td>2011</td>\n",
       "      <td>176</td>\n",
       "    </tr>\n",
       "    <tr>\n",
       "      <th>4</th>\n",
       "      <td>2012</td>\n",
       "      <td>213</td>\n",
       "    </tr>\n",
       "    <tr>\n",
       "      <th>5</th>\n",
       "      <td>2013</td>\n",
       "      <td>821</td>\n",
       "    </tr>\n",
       "    <tr>\n",
       "      <th>6</th>\n",
       "      <td>2014</td>\n",
       "      <td>1703</td>\n",
       "    </tr>\n",
       "    <tr>\n",
       "      <th>7</th>\n",
       "      <td>2015</td>\n",
       "      <td>4892</td>\n",
       "    </tr>\n",
       "    <tr>\n",
       "      <th>8</th>\n",
       "      <td>2016</td>\n",
       "      <td>16489</td>\n",
       "    </tr>\n",
       "    <tr>\n",
       "      <th>9</th>\n",
       "      <td>2017</td>\n",
       "      <td>38745</td>\n",
       "    </tr>\n",
       "    <tr>\n",
       "      <th>10</th>\n",
       "      <td>2018</td>\n",
       "      <td>45025</td>\n",
       "    </tr>\n",
       "    <tr>\n",
       "      <th>11</th>\n",
       "      <td>2019</td>\n",
       "      <td>42768</td>\n",
       "    </tr>\n",
       "  </tbody>\n",
       "</table>\n",
       "</div>"
      ],
      "text/plain": [
       "    Year  PatientID\n",
       "0   2008          3\n",
       "1   2009         24\n",
       "2   2010         87\n",
       "3   2011        176\n",
       "4   2012        213\n",
       "5   2013        821\n",
       "6   2014       1703\n",
       "7   2015       4892\n",
       "8   2016      16489\n",
       "9   2017      38745\n",
       "10  2018      45025\n",
       "11  2019      42768"
      ]
     },
     "execution_count": 180,
     "metadata": {},
     "output_type": "execute_result"
    }
   ],
   "source": [
    "df12=df.groupby(['Year'], as_index=False).agg({'PatientID': pd.Series.count})\n",
    "df12"
   ]
  },
  {
   "cell_type": "code",
   "execution_count": 181,
   "metadata": {},
   "outputs": [
    {
     "data": {
      "text/plain": [
       "150946"
      ]
     },
     "execution_count": 181,
     "metadata": {},
     "output_type": "execute_result"
    }
   ],
   "source": [
    "df12['PatientID'].sum()"
   ]
  },
  {
   "cell_type": "code",
   "execution_count": 188,
   "metadata": {},
   "outputs": [],
   "source": [
    "#question one finish"
   ]
  },
  {
   "cell_type": "code",
   "execution_count": 108,
   "metadata": {
    "scrolled": true
   },
   "outputs": [
    {
     "data": {
      "text/html": [
       "<div>\n",
       "<style scoped>\n",
       "    .dataframe tbody tr th:only-of-type {\n",
       "        vertical-align: middle;\n",
       "    }\n",
       "\n",
       "    .dataframe tbody tr th {\n",
       "        vertical-align: top;\n",
       "    }\n",
       "\n",
       "    .dataframe thead th {\n",
       "        text-align: right;\n",
       "    }\n",
       "</style>\n",
       "<table border=\"1\" class=\"dataframe\">\n",
       "  <thead>\n",
       "    <tr style=\"text-align: right;\">\n",
       "      <th></th>\n",
       "      <th>Year</th>\n",
       "      <th>Drug</th>\n",
       "    </tr>\n",
       "  </thead>\n",
       "  <tbody>\n",
       "    <tr>\n",
       "      <th>0</th>\n",
       "      <td>2008</td>\n",
       "      <td>1</td>\n",
       "    </tr>\n",
       "    <tr>\n",
       "      <th>1</th>\n",
       "      <td>2009</td>\n",
       "      <td>6</td>\n",
       "    </tr>\n",
       "    <tr>\n",
       "      <th>2</th>\n",
       "      <td>2010</td>\n",
       "      <td>7</td>\n",
       "    </tr>\n",
       "    <tr>\n",
       "      <th>3</th>\n",
       "      <td>2011</td>\n",
       "      <td>7</td>\n",
       "    </tr>\n",
       "    <tr>\n",
       "      <th>4</th>\n",
       "      <td>2012</td>\n",
       "      <td>10</td>\n",
       "    </tr>\n",
       "  </tbody>\n",
       "</table>\n",
       "</div>"
      ],
      "text/plain": [
       "   Year  Drug\n",
       "0  2008     1\n",
       "1  2009     6\n",
       "2  2010     7\n",
       "3  2011     7\n",
       "4  2012    10"
      ]
     },
     "execution_count": 108,
     "metadata": {},
     "output_type": "execute_result"
    }
   ],
   "source": [
    "#2.\tHow has the market landscape evolved in the recent years in AML market?\n",
    "\n",
    "df8=df.groupby(['Year',], as_index=False).agg({'Drug': pd.Series.nunique })\n",
    "df8.head()"
   ]
  },
  {
   "cell_type": "code",
   "execution_count": 109,
   "metadata": {
    "scrolled": true
   },
   "outputs": [
    {
     "data": {
      "text/html": [
       "<div>\n",
       "<style scoped>\n",
       "    .dataframe tbody tr th:only-of-type {\n",
       "        vertical-align: middle;\n",
       "    }\n",
       "\n",
       "    .dataframe tbody tr th {\n",
       "        vertical-align: top;\n",
       "    }\n",
       "\n",
       "    .dataframe thead th {\n",
       "        text-align: right;\n",
       "    }\n",
       "</style>\n",
       "<table border=\"1\" class=\"dataframe\">\n",
       "  <thead>\n",
       "    <tr style=\"text-align: right;\">\n",
       "      <th></th>\n",
       "      <th>Year</th>\n",
       "      <th>Drug</th>\n",
       "    </tr>\n",
       "  </thead>\n",
       "  <tbody>\n",
       "    <tr>\n",
       "      <th>0</th>\n",
       "      <td>2008</td>\n",
       "      <td>Drug 2</td>\n",
       "    </tr>\n",
       "    <tr>\n",
       "      <th>1</th>\n",
       "      <td>2009</td>\n",
       "      <td>[Drug 25, Drug 21, Drug 17, Drug 18, Drug 19, ...</td>\n",
       "    </tr>\n",
       "    <tr>\n",
       "      <th>2</th>\n",
       "      <td>2010</td>\n",
       "      <td>[Drug 2, Drug 19, Drug 7, Drug 17, Drug 21, Dr...</td>\n",
       "    </tr>\n",
       "    <tr>\n",
       "      <th>3</th>\n",
       "      <td>2011</td>\n",
       "      <td>[Drug 2, Drug 25, Drug 17, Drug 21, Drug 22, D...</td>\n",
       "    </tr>\n",
       "    <tr>\n",
       "      <th>4</th>\n",
       "      <td>2012</td>\n",
       "      <td>[Drug 2, Drug 11, Drug 18, Drug 19, Drug 25, D...</td>\n",
       "    </tr>\n",
       "  </tbody>\n",
       "</table>\n",
       "</div>"
      ],
      "text/plain": [
       "   Year                                               Drug\n",
       "0  2008                                             Drug 2\n",
       "1  2009  [Drug 25, Drug 21, Drug 17, Drug 18, Drug 19, ...\n",
       "2  2010  [Drug 2, Drug 19, Drug 7, Drug 17, Drug 21, Dr...\n",
       "3  2011  [Drug 2, Drug 25, Drug 17, Drug 21, Drug 22, D...\n",
       "4  2012  [Drug 2, Drug 11, Drug 18, Drug 19, Drug 25, D..."
      ]
     },
     "execution_count": 109,
     "metadata": {},
     "output_type": "execute_result"
    }
   ],
   "source": [
    "df10=df.groupby(['Year',], as_index=False).agg({'Drug': pd.Series.unique })\n",
    "df10.to_csv(r'Question2.csv')\n",
    "df10.head()"
   ]
  },
  {
   "cell_type": "code",
   "execution_count": 90,
   "metadata": {},
   "outputs": [
    {
     "data": {
      "text/html": [
       "<div>\n",
       "<style scoped>\n",
       "    .dataframe tbody tr th:only-of-type {\n",
       "        vertical-align: middle;\n",
       "    }\n",
       "\n",
       "    .dataframe tbody tr th {\n",
       "        vertical-align: top;\n",
       "    }\n",
       "\n",
       "    .dataframe thead th {\n",
       "        text-align: right;\n",
       "    }\n",
       "</style>\n",
       "<table border=\"1\" class=\"dataframe\">\n",
       "  <thead>\n",
       "    <tr style=\"text-align: right;\">\n",
       "      <th></th>\n",
       "      <th>Year</th>\n",
       "      <th>Drug</th>\n",
       "    </tr>\n",
       "  </thead>\n",
       "  <tbody>\n",
       "    <tr>\n",
       "      <th>0</th>\n",
       "      <td>2008</td>\n",
       "      <td>3</td>\n",
       "    </tr>\n",
       "    <tr>\n",
       "      <th>1</th>\n",
       "      <td>2009</td>\n",
       "      <td>24</td>\n",
       "    </tr>\n",
       "    <tr>\n",
       "      <th>2</th>\n",
       "      <td>2010</td>\n",
       "      <td>87</td>\n",
       "    </tr>\n",
       "    <tr>\n",
       "      <th>3</th>\n",
       "      <td>2011</td>\n",
       "      <td>176</td>\n",
       "    </tr>\n",
       "    <tr>\n",
       "      <th>4</th>\n",
       "      <td>2012</td>\n",
       "      <td>213</td>\n",
       "    </tr>\n",
       "  </tbody>\n",
       "</table>\n",
       "</div>"
      ],
      "text/plain": [
       "   Year  Drug\n",
       "0  2008     3\n",
       "1  2009    24\n",
       "2  2010    87\n",
       "3  2011   176\n",
       "4  2012   213"
      ]
     },
     "execution_count": 90,
     "metadata": {},
     "output_type": "execute_result"
    }
   ],
   "source": [
    "df9=df.groupby(['Year',], as_index=False).agg({'Drug': pd.Series.count })\n",
    "df9.head()"
   ]
  },
  {
   "cell_type": "code",
   "execution_count": 92,
   "metadata": {},
   "outputs": [
    {
     "data": {
      "text/plain": [
       "[<matplotlib.lines.Line2D at 0x193f007a988>]"
      ]
     },
     "execution_count": 92,
     "metadata": {},
     "output_type": "execute_result"
    },
    {
     "data": {
      "image/png": "[encoded data removed]",
      "text/plain": [
       "<Figure size 432x288 with 1 Axes>"
      ]
     },
     "metadata": {
      "needs_background": "light"
     },
     "output_type": "display_data"
    }
   ],
   "source": [
    "plt.plot(df9['Year'],df9['Drug'])"
   ]
  },
  {
   "cell_type": "code",
   "execution_count": 107,
   "metadata": {},
   "outputs": [
    {
     "data": {
      "text/plain": [
       "[<matplotlib.lines.Line2D at 0x193f4566dc8>]"
      ]
     },
     "execution_count": 107,
     "metadata": {},
     "output_type": "execute_result"
    },
    {
     "data": {
      "image/png": "[encoded data removed]",
      "text/plain": [
       "<Figure size 432x288 with 1 Axes>"
      ]
     },
     "metadata": {
      "needs_background": "light"
     },
     "output_type": "display_data"
    }
   ],
   "source": [
    "plt.plot(df8['Year'],df8['Drug'])"
   ]
  },
  {
   "cell_type": "code",
   "execution_count": 63,
   "metadata": {},
   "outputs": [],
   "source": [
    "#question 2 end"
   ]
  },
  {
   "cell_type": "code",
   "execution_count": 24,
   "metadata": {},
   "outputs": [],
   "source": [
    "df2=df.groupby(['PatientID'], as_index=False).agg({'LoT': pd.Series.nunique})"
   ]
  },
  {
   "cell_type": "code",
   "execution_count": 25,
   "metadata": {},
   "outputs": [
    {
     "data": {
      "text/plain": [
       "PatientID    1025\n",
       "LoT          1025\n",
       "dtype: int64"
      ]
     },
     "execution_count": 25,
     "metadata": {},
     "output_type": "execute_result"
    }
   ],
   "source": [
    "#3.\tWhat is the proportion of patients who are switching treatments? \n",
    "lot2=df2[df2['LoT']==2]\n",
    "lot2.count()"
   ]
  },
  {
   "cell_type": "code",
   "execution_count": 26,
   "metadata": {},
   "outputs": [
    {
     "data": {
      "text/plain": [
       "PatientID    395\n",
       "LoT          395\n",
       "dtype: int64"
      ]
     },
     "execution_count": 26,
     "metadata": {},
     "output_type": "execute_result"
    }
   ],
   "source": [
    "#3.\tWhat is the proportion of patients who are switching treatments? \n",
    "lot3=df2[df2['LoT']==3]\n",
    "lot3.count()"
   ]
  },
  {
   "cell_type": "code",
   "execution_count": 27,
   "metadata": {},
   "outputs": [
    {
     "data": {
      "text/plain": [
       "PatientID    174\n",
       "LoT          174\n",
       "dtype: int64"
      ]
     },
     "execution_count": 27,
     "metadata": {},
     "output_type": "execute_result"
    }
   ],
   "source": [
    "#3.\tWhat is the proportion of patients who are switching treatments? \n",
    "lot4=df2[df2['LoT']==4]\n",
    "lot4.count()"
   ]
  },
  {
   "cell_type": "code",
   "execution_count": 28,
   "metadata": {},
   "outputs": [],
   "source": [
    "#question 3 finish"
   ]
  },
  {
   "cell_type": "code",
   "execution_count": 23,
   "metadata": {},
   "outputs": [],
   "source": [
    "df1=df.groupby(['Treatment Regimen'], as_index=False).agg({'LoT': pd.Series.nunique })"
   ]
  },
  {
   "cell_type": "code",
   "execution_count": 189,
   "metadata": {},
   "outputs": [],
   "source": [
    "#4.\tWhat are the top 10 treatment regimens patients are switching to?\n",
    "#For Qs. 3 and 4, Switches of interest – LoT 1 to LoT 2, LoT 2 to LoT 3, LoT 3 to LoT 4"
   ]
  },
  {
   "cell_type": "code",
   "execution_count": 190,
   "metadata": {},
   "outputs": [
    {
     "data": {
      "text/plain": [
       "Drug 20                                   1\n",
       "Drug 7,Drug 14,Drug 15,Drug 17            1\n",
       "Drug 10,Drug 16,Drug 26                   1\n",
       "Drug 6,Drug 7,Drug 19                     1\n",
       "Drug 2,Drug 16,Drug 23,Drug 25,Drug 26    1\n",
       "Drug 11,Drug 13                           1\n",
       "Drug 2,Drug 19                            1\n",
       "Drug 6,Drug 13,Drug 19                    1\n",
       "Drug 6,Drug 7,Drug 18,Drug 19,Drug 22     1\n",
       "Drug 7,Drug 16,Drug 17,Drug 23            1\n",
       "Name: Treatment Regimen, dtype: int64"
      ]
     },
     "execution_count": 190,
     "metadata": {},
     "output_type": "execute_result"
    }
   ],
   "source": [
    "df1['Treatment Regimen'].value_counts().head(10)"
   ]
  },
  {
   "cell_type": "code",
   "execution_count": 30,
   "metadata": {
    "scrolled": true
   },
   "outputs": [
    {
     "data": {
      "text/plain": [
       "Drug 2                    41865\n",
       "Drug 11                   21483\n",
       "Drug 1,Drug 25            17473\n",
       "Drug 2,Drug 26            11034\n",
       "Drug 11,Drug 26            6330\n",
       "Drug 1,Drug 16,Drug 25     3495\n",
       "Drug 1                     2994\n",
       "Drug 7                     2126\n",
       "Drug 16                    2119\n",
       "Drug 7,Drug 26             2009\n",
       "Name: Treatment Regimen, dtype: int64"
      ]
     },
     "execution_count": 30,
     "metadata": {},
     "output_type": "execute_result"
    }
   ],
   "source": [
    "df['Treatment Regimen'].value_counts().head(10)"
   ]
  },
  {
   "cell_type": "code",
   "execution_count": 8,
   "metadata": {},
   "outputs": [],
   "source": [
    "#5.\tHow long patients are spending on different treatment regimens in AML market? Perform this \n",
    "#analysis by LoT and consider LoT 1 to 3."
   ]
  },
  {
   "cell_type": "code",
   "execution_count": 31,
   "metadata": {},
   "outputs": [
    {
     "data": {
      "text/html": [
       "<div>\n",
       "<style scoped>\n",
       "    .dataframe tbody tr th:only-of-type {\n",
       "        vertical-align: middle;\n",
       "    }\n",
       "\n",
       "    .dataframe tbody tr th {\n",
       "        vertical-align: top;\n",
       "    }\n",
       "\n",
       "    .dataframe thead th {\n",
       "        text-align: right;\n",
       "    }\n",
       "</style>\n",
       "<table border=\"1\" class=\"dataframe\">\n",
       "  <thead>\n",
       "    <tr style=\"text-align: right;\">\n",
       "      <th></th>\n",
       "      <th>PatientID</th>\n",
       "      <th>Drug</th>\n",
       "      <th>Quarter-Year</th>\n",
       "      <th>Quarters</th>\n",
       "      <th>Year</th>\n",
       "      <th>administereddate</th>\n",
       "      <th>LoT</th>\n",
       "      <th>LoT Category</th>\n",
       "      <th>Treatment Regimen</th>\n",
       "    </tr>\n",
       "  </thead>\n",
       "  <tbody>\n",
       "    <tr>\n",
       "      <th>0</th>\n",
       "      <td>1</td>\n",
       "      <td>Drug 11</td>\n",
       "      <td>2017-Q1</td>\n",
       "      <td>1</td>\n",
       "      <td>2017</td>\n",
       "      <td>2017-02-13</td>\n",
       "      <td>1</td>\n",
       "      <td>1</td>\n",
       "      <td>Drug 11</td>\n",
       "    </tr>\n",
       "    <tr>\n",
       "      <th>1</th>\n",
       "      <td>1</td>\n",
       "      <td>Drug 11</td>\n",
       "      <td>2017-Q1</td>\n",
       "      <td>1</td>\n",
       "      <td>2017</td>\n",
       "      <td>2017-02-14</td>\n",
       "      <td>1</td>\n",
       "      <td>1</td>\n",
       "      <td>Drug 11</td>\n",
       "    </tr>\n",
       "    <tr>\n",
       "      <th>2</th>\n",
       "      <td>1</td>\n",
       "      <td>Drug 11</td>\n",
       "      <td>2017-Q1</td>\n",
       "      <td>1</td>\n",
       "      <td>2017</td>\n",
       "      <td>2017-02-15</td>\n",
       "      <td>1</td>\n",
       "      <td>1</td>\n",
       "      <td>Drug 11</td>\n",
       "    </tr>\n",
       "    <tr>\n",
       "      <th>3</th>\n",
       "      <td>1</td>\n",
       "      <td>Drug 11</td>\n",
       "      <td>2017-Q1</td>\n",
       "      <td>1</td>\n",
       "      <td>2017</td>\n",
       "      <td>2017-02-16</td>\n",
       "      <td>1</td>\n",
       "      <td>1</td>\n",
       "      <td>Drug 11</td>\n",
       "    </tr>\n",
       "    <tr>\n",
       "      <th>4</th>\n",
       "      <td>1</td>\n",
       "      <td>Drug 11</td>\n",
       "      <td>2017-Q1</td>\n",
       "      <td>1</td>\n",
       "      <td>2017</td>\n",
       "      <td>2017-02-17</td>\n",
       "      <td>1</td>\n",
       "      <td>1</td>\n",
       "      <td>Drug 11</td>\n",
       "    </tr>\n",
       "  </tbody>\n",
       "</table>\n",
       "</div>"
      ],
      "text/plain": [
       "   PatientID     Drug Quarter-Year  Quarters  Year administereddate  LoT  \\\n",
       "0          1  Drug 11      2017-Q1         1  2017       2017-02-13    1   \n",
       "1          1  Drug 11      2017-Q1         1  2017       2017-02-14    1   \n",
       "2          1  Drug 11      2017-Q1         1  2017       2017-02-15    1   \n",
       "3          1  Drug 11      2017-Q1         1  2017       2017-02-16    1   \n",
       "4          1  Drug 11      2017-Q1         1  2017       2017-02-17    1   \n",
       "\n",
       "  LoT Category Treatment Regimen  \n",
       "0            1           Drug 11  \n",
       "1            1           Drug 11  \n",
       "2            1           Drug 11  \n",
       "3            1           Drug 11  \n",
       "4            1           Drug 11  "
      ]
     },
     "execution_count": 31,
     "metadata": {},
     "output_type": "execute_result"
    }
   ],
   "source": [
    "df.head()"
   ]
  },
  {
   "cell_type": "code",
   "execution_count": 32,
   "metadata": {},
   "outputs": [],
   "source": [
    "df3=df.groupby(['PatientID','Treatment Regimen']).agg({'administereddate': [np.min,np.max]})"
   ]
  },
  {
   "cell_type": "code",
   "execution_count": 33,
   "metadata": {},
   "outputs": [],
   "source": [
    "df3.columns = df3.columns.get_level_values(1)"
   ]
  },
  {
   "cell_type": "code",
   "execution_count": 34,
   "metadata": {},
   "outputs": [
    {
     "data": {
      "text/html": [
       "<div>\n",
       "<style scoped>\n",
       "    .dataframe tbody tr th:only-of-type {\n",
       "        vertical-align: middle;\n",
       "    }\n",
       "\n",
       "    .dataframe tbody tr th {\n",
       "        vertical-align: top;\n",
       "    }\n",
       "\n",
       "    .dataframe thead th {\n",
       "        text-align: right;\n",
       "    }\n",
       "</style>\n",
       "<table border=\"1\" class=\"dataframe\">\n",
       "  <thead>\n",
       "    <tr style=\"text-align: right;\">\n",
       "      <th></th>\n",
       "      <th></th>\n",
       "      <th>amin</th>\n",
       "      <th>amax</th>\n",
       "    </tr>\n",
       "    <tr>\n",
       "      <th>PatientID</th>\n",
       "      <th>Treatment Regimen</th>\n",
       "      <th></th>\n",
       "      <th></th>\n",
       "    </tr>\n",
       "  </thead>\n",
       "  <tbody>\n",
       "    <tr>\n",
       "      <th>1</th>\n",
       "      <th>Drug 11</th>\n",
       "      <td>2017-02-13</td>\n",
       "      <td>2017-02-22</td>\n",
       "    </tr>\n",
       "    <tr>\n",
       "      <th>2</th>\n",
       "      <th>Drug 2,Drug 16</th>\n",
       "      <td>2019-06-20</td>\n",
       "      <td>2019-07-01</td>\n",
       "    </tr>\n",
       "    <tr>\n",
       "      <th>3</th>\n",
       "      <th>Drug 2</th>\n",
       "      <td>2017-02-20</td>\n",
       "      <td>2018-02-13</td>\n",
       "    </tr>\n",
       "    <tr>\n",
       "      <th rowspan=\"2\" valign=\"top\">4</th>\n",
       "      <th>Drug 2</th>\n",
       "      <td>2018-12-03</td>\n",
       "      <td>2019-08-30</td>\n",
       "    </tr>\n",
       "    <tr>\n",
       "      <th>Drug 26</th>\n",
       "      <td>2019-09-16</td>\n",
       "      <td>2019-09-16</td>\n",
       "    </tr>\n",
       "    <tr>\n",
       "      <th>5</th>\n",
       "      <th>Drug 26</th>\n",
       "      <td>2018-02-26</td>\n",
       "      <td>2018-02-26</td>\n",
       "    </tr>\n",
       "    <tr>\n",
       "      <th rowspan=\"2\" valign=\"top\">6</th>\n",
       "      <th>Drug 6,Drug 7,Drug 9,Drug 18,Drug 19,Drug 27</th>\n",
       "      <td>2018-10-10</td>\n",
       "      <td>2019-06-06</td>\n",
       "    </tr>\n",
       "    <tr>\n",
       "      <th>Drug 7,Drug 9,Drug 25,Drug 27</th>\n",
       "      <td>2018-09-16</td>\n",
       "      <td>2018-10-05</td>\n",
       "    </tr>\n",
       "    <tr>\n",
       "      <th>7</th>\n",
       "      <th>Drug 7,Drug 9</th>\n",
       "      <td>2019-06-22</td>\n",
       "      <td>2019-07-15</td>\n",
       "    </tr>\n",
       "    <tr>\n",
       "      <th>8</th>\n",
       "      <th>Drug 1,Drug 16,Drug 25</th>\n",
       "      <td>2017-12-11</td>\n",
       "      <td>2018-10-05</td>\n",
       "    </tr>\n",
       "  </tbody>\n",
       "</table>\n",
       "</div>"
      ],
      "text/plain": [
       "                                                             amin       amax\n",
       "PatientID Treatment Regimen                                                 \n",
       "1         Drug 11                                      2017-02-13 2017-02-22\n",
       "2         Drug 2,Drug 16                               2019-06-20 2019-07-01\n",
       "3         Drug 2                                       2017-02-20 2018-02-13\n",
       "4         Drug 2                                       2018-12-03 2019-08-30\n",
       "          Drug 26                                      2019-09-16 2019-09-16\n",
       "5         Drug 26                                      2018-02-26 2018-02-26\n",
       "6         Drug 6,Drug 7,Drug 9,Drug 18,Drug 19,Drug 27 2018-10-10 2019-06-06\n",
       "          Drug 7,Drug 9,Drug 25,Drug 27                2018-09-16 2018-10-05\n",
       "7         Drug 7,Drug 9                                2019-06-22 2019-07-15\n",
       "8         Drug 1,Drug 16,Drug 25                       2017-12-11 2018-10-05"
      ]
     },
     "execution_count": 34,
     "metadata": {},
     "output_type": "execute_result"
    }
   ],
   "source": [
    "df3.head(10)"
   ]
  },
  {
   "cell_type": "code",
   "execution_count": 35,
   "metadata": {},
   "outputs": [],
   "source": [
    "df4=df3['amax']-df3['amin']"
   ]
  },
  {
   "cell_type": "code",
   "execution_count": 36,
   "metadata": {},
   "outputs": [],
   "source": [
    "df4.to_csv(r'Question5.csv')"
   ]
  },
  {
   "cell_type": "code",
   "execution_count": 37,
   "metadata": {},
   "outputs": [],
   "source": [
    "#question 5 finish"
   ]
  },
  {
   "cell_type": "code",
   "execution_count": 38,
   "metadata": {},
   "outputs": [],
   "source": [
    "#6.\tHow is the uptake of recent products in the AML market?\n",
    "#For Qs. 6, New Products Launched – Drug 10, Drug 12, Drug 15, Drug 20"
   ]
  },
  {
   "cell_type": "code",
   "execution_count": 110,
   "metadata": {},
   "outputs": [
    {
     "data": {
      "text/html": [
       "<div>\n",
       "<style scoped>\n",
       "    .dataframe tbody tr th:only-of-type {\n",
       "        vertical-align: middle;\n",
       "    }\n",
       "\n",
       "    .dataframe tbody tr th {\n",
       "        vertical-align: top;\n",
       "    }\n",
       "\n",
       "    .dataframe thead th {\n",
       "        text-align: right;\n",
       "    }\n",
       "</style>\n",
       "<table border=\"1\" class=\"dataframe\">\n",
       "  <thead>\n",
       "    <tr style=\"text-align: right;\">\n",
       "      <th></th>\n",
       "      <th>PatientID</th>\n",
       "      <th>Drug</th>\n",
       "      <th>Quarter-Year</th>\n",
       "      <th>Quarters</th>\n",
       "      <th>Year</th>\n",
       "      <th>administereddate</th>\n",
       "      <th>LoT</th>\n",
       "      <th>LoT Category</th>\n",
       "      <th>Treatment Regimen</th>\n",
       "    </tr>\n",
       "  </thead>\n",
       "  <tbody>\n",
       "    <tr>\n",
       "      <th>0</th>\n",
       "      <td>1</td>\n",
       "      <td>Drug 11</td>\n",
       "      <td>2017-Q1</td>\n",
       "      <td>1</td>\n",
       "      <td>2017</td>\n",
       "      <td>2017-02-13</td>\n",
       "      <td>1</td>\n",
       "      <td>1</td>\n",
       "      <td>Drug 11</td>\n",
       "    </tr>\n",
       "    <tr>\n",
       "      <th>1</th>\n",
       "      <td>1</td>\n",
       "      <td>Drug 11</td>\n",
       "      <td>2017-Q1</td>\n",
       "      <td>1</td>\n",
       "      <td>2017</td>\n",
       "      <td>2017-02-14</td>\n",
       "      <td>1</td>\n",
       "      <td>1</td>\n",
       "      <td>Drug 11</td>\n",
       "    </tr>\n",
       "    <tr>\n",
       "      <th>2</th>\n",
       "      <td>1</td>\n",
       "      <td>Drug 11</td>\n",
       "      <td>2017-Q1</td>\n",
       "      <td>1</td>\n",
       "      <td>2017</td>\n",
       "      <td>2017-02-15</td>\n",
       "      <td>1</td>\n",
       "      <td>1</td>\n",
       "      <td>Drug 11</td>\n",
       "    </tr>\n",
       "    <tr>\n",
       "      <th>3</th>\n",
       "      <td>1</td>\n",
       "      <td>Drug 11</td>\n",
       "      <td>2017-Q1</td>\n",
       "      <td>1</td>\n",
       "      <td>2017</td>\n",
       "      <td>2017-02-16</td>\n",
       "      <td>1</td>\n",
       "      <td>1</td>\n",
       "      <td>Drug 11</td>\n",
       "    </tr>\n",
       "    <tr>\n",
       "      <th>4</th>\n",
       "      <td>1</td>\n",
       "      <td>Drug 11</td>\n",
       "      <td>2017-Q1</td>\n",
       "      <td>1</td>\n",
       "      <td>2017</td>\n",
       "      <td>2017-02-17</td>\n",
       "      <td>1</td>\n",
       "      <td>1</td>\n",
       "      <td>Drug 11</td>\n",
       "    </tr>\n",
       "  </tbody>\n",
       "</table>\n",
       "</div>"
      ],
      "text/plain": [
       "   PatientID     Drug Quarter-Year  Quarters  Year administereddate  LoT  \\\n",
       "0          1  Drug 11      2017-Q1         1  2017       2017-02-13    1   \n",
       "1          1  Drug 11      2017-Q1         1  2017       2017-02-14    1   \n",
       "2          1  Drug 11      2017-Q1         1  2017       2017-02-15    1   \n",
       "3          1  Drug 11      2017-Q1         1  2017       2017-02-16    1   \n",
       "4          1  Drug 11      2017-Q1         1  2017       2017-02-17    1   \n",
       "\n",
       "  LoT Category Treatment Regimen  \n",
       "0            1           Drug 11  \n",
       "1            1           Drug 11  \n",
       "2            1           Drug 11  \n",
       "3            1           Drug 11  \n",
       "4            1           Drug 11  "
      ]
     },
     "execution_count": 110,
     "metadata": {},
     "output_type": "execute_result"
    }
   ],
   "source": [
    "df.head()"
   ]
  },
  {
   "cell_type": "code",
   "execution_count": 111,
   "metadata": {},
   "outputs": [],
   "source": [
    "df6=df[df['Drug'].str.contains(\"Drug 10\") | df['Drug'].str.contains('Drug 12') | df['Drug'].str.contains('Drug 15') | df['Drug'].str.contains('Drug 20')]"
   ]
  },
  {
   "cell_type": "code",
   "execution_count": 171,
   "metadata": {},
   "outputs": [
    {
     "data": {
      "text/html": [
       "<div>\n",
       "<style scoped>\n",
       "    .dataframe tbody tr th:only-of-type {\n",
       "        vertical-align: middle;\n",
       "    }\n",
       "\n",
       "    .dataframe tbody tr th {\n",
       "        vertical-align: top;\n",
       "    }\n",
       "\n",
       "    .dataframe thead th {\n",
       "        text-align: right;\n",
       "    }\n",
       "</style>\n",
       "<table border=\"1\" class=\"dataframe\">\n",
       "  <thead>\n",
       "    <tr style=\"text-align: right;\">\n",
       "      <th></th>\n",
       "      <th>PatientID</th>\n",
       "      <th>Drug</th>\n",
       "      <th>Quarter-Year</th>\n",
       "      <th>Quarters</th>\n",
       "      <th>Year</th>\n",
       "      <th>administereddate</th>\n",
       "      <th>LoT</th>\n",
       "      <th>LoT Category</th>\n",
       "      <th>Treatment Regimen</th>\n",
       "    </tr>\n",
       "  </thead>\n",
       "  <tbody>\n",
       "    <tr>\n",
       "      <th>363</th>\n",
       "      <td>11</td>\n",
       "      <td>Drug 20</td>\n",
       "      <td>2018-Q1</td>\n",
       "      <td>1</td>\n",
       "      <td>2018</td>\n",
       "      <td>2018-03-12</td>\n",
       "      <td>1</td>\n",
       "      <td>1</td>\n",
       "      <td>Drug 4,Drug 7,Drug 16,Drug 20,Drug 25</td>\n",
       "    </tr>\n",
       "    <tr>\n",
       "      <th>365</th>\n",
       "      <td>11</td>\n",
       "      <td>Drug 20</td>\n",
       "      <td>2018-Q1</td>\n",
       "      <td>1</td>\n",
       "      <td>2018</td>\n",
       "      <td>2018-03-13</td>\n",
       "      <td>1</td>\n",
       "      <td>1</td>\n",
       "      <td>Drug 4,Drug 7,Drug 16,Drug 20,Drug 25</td>\n",
       "    </tr>\n",
       "    <tr>\n",
       "      <th>367</th>\n",
       "      <td>11</td>\n",
       "      <td>Drug 20</td>\n",
       "      <td>2018-Q1</td>\n",
       "      <td>1</td>\n",
       "      <td>2018</td>\n",
       "      <td>2018-03-14</td>\n",
       "      <td>1</td>\n",
       "      <td>1</td>\n",
       "      <td>Drug 4,Drug 7,Drug 16,Drug 20,Drug 25</td>\n",
       "    </tr>\n",
       "    <tr>\n",
       "      <th>369</th>\n",
       "      <td>11</td>\n",
       "      <td>Drug 20</td>\n",
       "      <td>2018-Q1</td>\n",
       "      <td>1</td>\n",
       "      <td>2018</td>\n",
       "      <td>2018-03-15</td>\n",
       "      <td>1</td>\n",
       "      <td>1</td>\n",
       "      <td>Drug 4,Drug 7,Drug 16,Drug 20,Drug 25</td>\n",
       "    </tr>\n",
       "    <tr>\n",
       "      <th>371</th>\n",
       "      <td>11</td>\n",
       "      <td>Drug 20</td>\n",
       "      <td>2018-Q1</td>\n",
       "      <td>1</td>\n",
       "      <td>2018</td>\n",
       "      <td>2018-03-16</td>\n",
       "      <td>1</td>\n",
       "      <td>1</td>\n",
       "      <td>Drug 4,Drug 7,Drug 16,Drug 20,Drug 25</td>\n",
       "    </tr>\n",
       "  </tbody>\n",
       "</table>\n",
       "</div>"
      ],
      "text/plain": [
       "     PatientID     Drug Quarter-Year  Quarters  Year administereddate  LoT  \\\n",
       "363         11  Drug 20      2018-Q1         1  2018       2018-03-12    1   \n",
       "365         11  Drug 20      2018-Q1         1  2018       2018-03-13    1   \n",
       "367         11  Drug 20      2018-Q1         1  2018       2018-03-14    1   \n",
       "369         11  Drug 20      2018-Q1         1  2018       2018-03-15    1   \n",
       "371         11  Drug 20      2018-Q1         1  2018       2018-03-16    1   \n",
       "\n",
       "    LoT Category                      Treatment Regimen  \n",
       "363            1  Drug 4,Drug 7,Drug 16,Drug 20,Drug 25  \n",
       "365            1  Drug 4,Drug 7,Drug 16,Drug 20,Drug 25  \n",
       "367            1  Drug 4,Drug 7,Drug 16,Drug 20,Drug 25  \n",
       "369            1  Drug 4,Drug 7,Drug 16,Drug 20,Drug 25  \n",
       "371            1  Drug 4,Drug 7,Drug 16,Drug 20,Drug 25  "
      ]
     },
     "execution_count": 171,
     "metadata": {},
     "output_type": "execute_result"
    }
   ],
   "source": [
    "df6.head()"
   ]
  },
  {
   "cell_type": "code",
   "execution_count": 182,
   "metadata": {},
   "outputs": [
    {
     "data": {
      "text/plain": [
       "PatientID            3983\n",
       "Drug                 3983\n",
       "Quarter-Year         3983\n",
       "Quarters             3983\n",
       "Year                 3983\n",
       "administereddate     3983\n",
       "LoT                  3983\n",
       "LoT Category         3983\n",
       "Treatment Regimen    3983\n",
       "dtype: int64"
      ]
     },
     "execution_count": 182,
     "metadata": {},
     "output_type": "execute_result"
    }
   ],
   "source": [
    "df6.count()"
   ]
  },
  {
   "cell_type": "code",
   "execution_count": 169,
   "metadata": {},
   "outputs": [
    {
     "data": {
      "text/html": [
       "<div>\n",
       "<style scoped>\n",
       "    .dataframe tbody tr th:only-of-type {\n",
       "        vertical-align: middle;\n",
       "    }\n",
       "\n",
       "    .dataframe tbody tr th {\n",
       "        vertical-align: top;\n",
       "    }\n",
       "\n",
       "    .dataframe thead th {\n",
       "        text-align: right;\n",
       "    }\n",
       "</style>\n",
       "<table border=\"1\" class=\"dataframe\">\n",
       "  <thead>\n",
       "    <tr style=\"text-align: right;\">\n",
       "      <th></th>\n",
       "      <th>PatientID</th>\n",
       "      <th>Drug</th>\n",
       "    </tr>\n",
       "  </thead>\n",
       "  <tbody>\n",
       "    <tr>\n",
       "      <th>0</th>\n",
       "      <td>11</td>\n",
       "      <td>Drug 20</td>\n",
       "    </tr>\n",
       "    <tr>\n",
       "      <th>1</th>\n",
       "      <td>13</td>\n",
       "      <td>Drug 20</td>\n",
       "    </tr>\n",
       "    <tr>\n",
       "      <th>2</th>\n",
       "      <td>33</td>\n",
       "      <td>Drug 10</td>\n",
       "    </tr>\n",
       "    <tr>\n",
       "      <th>3</th>\n",
       "      <td>37</td>\n",
       "      <td>Drug 20</td>\n",
       "    </tr>\n",
       "    <tr>\n",
       "      <th>4</th>\n",
       "      <td>41</td>\n",
       "      <td>Drug 20</td>\n",
       "    </tr>\n",
       "  </tbody>\n",
       "</table>\n",
       "</div>"
      ],
      "text/plain": [
       "   PatientID     Drug\n",
       "0         11  Drug 20\n",
       "1         13  Drug 20\n",
       "2         33  Drug 10\n",
       "3         37  Drug 20\n",
       "4         41  Drug 20"
      ]
     },
     "execution_count": 169,
     "metadata": {},
     "output_type": "execute_result"
    }
   ],
   "source": [
    "df7=df6.groupby(['PatientID'], as_index=False).agg({'Drug': pd.Series.unique})\n",
    "df7.head()"
   ]
  },
  {
   "cell_type": "code",
   "execution_count": 148,
   "metadata": {},
   "outputs": [
    {
     "data": {
      "text/plain": [
       "PatientID    649\n",
       "Drug         649\n",
       "dtype: int64"
      ]
     },
     "execution_count": 148,
     "metadata": {},
     "output_type": "execute_result"
    }
   ],
   "source": [
    "df7.count()"
   ]
  },
  {
   "cell_type": "code",
   "execution_count": 186,
   "metadata": {},
   "outputs": [
    {
     "data": {
      "text/html": [
       "<div>\n",
       "<style scoped>\n",
       "    .dataframe tbody tr th:only-of-type {\n",
       "        vertical-align: middle;\n",
       "    }\n",
       "\n",
       "    .dataframe tbody tr th {\n",
       "        vertical-align: top;\n",
       "    }\n",
       "\n",
       "    .dataframe thead th {\n",
       "        text-align: right;\n",
       "    }\n",
       "</style>\n",
       "<table border=\"1\" class=\"dataframe\">\n",
       "  <thead>\n",
       "    <tr style=\"text-align: right;\">\n",
       "      <th></th>\n",
       "      <th>Drug</th>\n",
       "      <th>Patient Number</th>\n",
       "    </tr>\n",
       "  </thead>\n",
       "  <tbody>\n",
       "    <tr>\n",
       "      <th>0</th>\n",
       "      <td>Drug 10</td>\n",
       "      <td>157</td>\n",
       "    </tr>\n",
       "    <tr>\n",
       "      <th>1</th>\n",
       "      <td>Drug 12</td>\n",
       "      <td>121</td>\n",
       "    </tr>\n",
       "    <tr>\n",
       "      <th>2</th>\n",
       "      <td>Drug 15</td>\n",
       "      <td>129</td>\n",
       "    </tr>\n",
       "    <tr>\n",
       "      <th>3</th>\n",
       "      <td>Drug 20</td>\n",
       "      <td>278</td>\n",
       "    </tr>\n",
       "  </tbody>\n",
       "</table>\n",
       "</div>"
      ],
      "text/plain": [
       "      Drug  Patient Number\n",
       "0  Drug 10             157\n",
       "1  Drug 12             121\n",
       "2  Drug 15             129\n",
       "3  Drug 20             278"
      ]
     },
     "execution_count": 186,
     "metadata": {},
     "output_type": "execute_result"
    }
   ],
   "source": [
    "df11=df6.groupby(['Drug'], as_index=False).agg({'PatientID': pd.Series.nunique})\n",
    "df11['Patient Number']=df11['PatientID']\n",
    "df11.drop('PatientID', axis=1, inplace=True)\n",
    "df11"
   ]
  },
  {
   "cell_type": "code",
   "execution_count": 187,
   "metadata": {},
   "outputs": [
    {
     "data": {
      "text/plain": [
       "685"
      ]
     },
     "execution_count": 187,
     "metadata": {},
     "output_type": "execute_result"
    }
   ],
   "source": [
    "df11['Patient Number'].sum()"
   ]
  },
  {
   "cell_type": "code",
   "execution_count": 132,
   "metadata": {},
   "outputs": [],
   "source": [
    "#question 6 end"
   ]
  }
 ],
 "metadata": {
  "kernelspec": {
   "display_name": "Python 3",
   "language": "python",
   "name": "python3"
  },
  "language_info": {
   "codemirror_mode": {
    "name": "ipython",
    "version": 3
   },
   "file_extension": ".py",
   "mimetype": "text/x-python",
   "name": "python",
   "nbconvert_exporter": "python",
   "pygments_lexer": "ipython3",
   "version": "3.7.6"
  }
 },
 "nbformat": 4,
 "nbformat_minor": 4
}
